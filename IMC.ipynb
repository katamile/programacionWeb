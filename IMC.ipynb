{
  "nbformat": 4,
  "nbformat_minor": 0,
  "metadata": {
    "colab": {
      "provenance": [],
      "authorship_tag": "ABX9TyOakEqmehKga83SSbNSpqeO",
      "include_colab_link": true
    },
    "kernelspec": {
      "name": "python3",
      "display_name": "Python 3"
    },
    "language_info": {
      "name": "python"
    }
  },
  "cells": [
    {
      "cell_type": "markdown",
      "metadata": {
        "id": "view-in-github",
        "colab_type": "text"
      },
      "source": [
        "<a href=\"https://colab.research.google.com/github/katamile/programacionWeb/blob/main/IMC.ipynb\" target=\"_parent\"><img src=\"https://colab.research.google.com/assets/colab-badge.svg\" alt=\"Open In Colab\"/></a>"
      ]
    },
    {
      "cell_type": "code",
      "execution_count": 4,
      "metadata": {
        "colab": {
          "base_uri": "https://localhost:8080/"
        },
        "id": "wl5fV2IfLOS9",
        "outputId": "7e232b74-7d00-4ea0-f491-015b39cf6e3a"
      },
      "outputs": [
        {
          "output_type": "stream",
          "name": "stdout",
          "text": [
            "Ingrese su peso en Kilogramos: 117\n",
            "Ingrese su estatura en metros(decimal con punto): 1.65\n",
            "Su IMC es de 43.0\n",
            "-----------------------  -----------------------------\n",
            "Composición corporal     Índice de masa corporal (IMC)\n",
            "Peso inferior al normal  Menos de 18.5\n",
            "Normal                   18.5 – 24.9\n",
            "Peso superior al normal  25.0 – 29.9\n",
            "Obesidad                 Más de 30.0\n",
            "-----------------------  -----------------------------\n"
          ]
        }
      ],
      "source": [
        "#escriba un script que sea capaz de calcular el índice de masa corporal de una persona en base a los datos ingresados por el usuario.\n",
        " \n",
        "import math\n",
        "from tabulate import tabulate\n",
        " \n",
        "peso = float(input(\"Ingrese su peso en Kilogramos: \"))\n",
        "estatura = float(input(\"Ingrese su estatura en metros(decimal con punto): \"))\n",
        " \n",
        "IMC = round(peso/math.pow(estatura,2),1)\n",
        " \n",
        "print(\"Su IMC es de \"+str(IMC))\n",
        " \n",
        "lista = [[\"Composición corporal\",\"Índice de masa corporal (IMC)\"],[\"Peso inferior al normal\",\"Menos de 18.5\"],[\"Normal\",\"18.5 – 24.9\"],[\"Peso superior al normal\",\"25.0 – 29.9\"],[\"Obesidad\",\"Más de 30.0\"]]\n",
        " \n",
        "print(tabulate(lista))"
      ]
    }
  ]
}